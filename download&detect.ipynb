{
  "cells": [
    {
      "cell_type": "markdown",
      "metadata": {
        "id": "view-in-github",
        "colab_type": "text"
      },
      "source": [
        "<a href=\"https://colab.research.google.com/github/ak1909552/satellite-imagery/blob/main/download%26detect.ipynb\" target=\"_parent\"><img src=\"https://colab.research.google.com/assets/colab-badge.svg\" alt=\"Open In Colab\"/></a>"
      ]
    },
    {
      "cell_type": "markdown",
      "source": [
        "## S2 Downloader for GEE\n",
        "\n",
        "[Link](https://colab.research.google.com/drive/1KG4hwBRaBXo8mCC5fyIStNKc1XV0u41s?usp=sharing)"
      ],
      "metadata": {
        "id": "Oz9UrDzeGu_n"
      }
    },
    {
      "cell_type": "code",
      "execution_count": null,
      "metadata": {
        "id": "yB61pn5T27WS",
        "colab": {
          "base_uri": "https://localhost:8080/"
        },
        "outputId": "30731656-0ef5-4709-bf4f-34c78a980d39"
      },
      "outputs": [
        {
          "output_type": "stream",
          "name": "stdout",
          "text": [
            "Looking in indexes: https://pypi.org/simple, https://us-python.pkg.dev/colab-wheels/public/simple/\n",
            "Requirement already satisfied: earthengine-api in /usr/local/lib/python3.8/dist-packages (0.1.341)\n",
            "Requirement already satisfied: google-auth-httplib2>=0.0.3 in /usr/local/lib/python3.8/dist-packages (from earthengine-api) (0.1.0)\n",
            "Requirement already satisfied: google-auth>=1.4.1 in /usr/local/lib/python3.8/dist-packages (from earthengine-api) (2.16.0)\n",
            "Requirement already satisfied: httplib2<1dev,>=0.9.2 in /usr/local/lib/python3.8/dist-packages (from earthengine-api) (0.17.4)\n",
            "Requirement already satisfied: google-api-python-client>=1.12.1 in /usr/local/lib/python3.8/dist-packages (from earthengine-api) (2.70.0)\n",
            "Requirement already satisfied: requests in /usr/local/lib/python3.8/dist-packages (from earthengine-api) (2.25.1)\n",
            "Requirement already satisfied: google-cloud-storage in /usr/local/lib/python3.8/dist-packages (from earthengine-api) (2.7.0)\n",
            "Requirement already satisfied: google-api-core!=2.0.*,!=2.1.*,!=2.2.*,!=2.3.0,<3.0.0dev,>=1.31.5 in /usr/local/lib/python3.8/dist-packages (from google-api-python-client>=1.12.1->earthengine-api) (2.11.0)\n",
            "Requirement already satisfied: uritemplate<5,>=3.0.1 in /usr/local/lib/python3.8/dist-packages (from google-api-python-client>=1.12.1->earthengine-api) (4.1.1)\n",
            "Requirement already satisfied: rsa<5,>=3.1.4 in /usr/local/lib/python3.8/dist-packages (from google-auth>=1.4.1->earthengine-api) (4.9)\n",
            "Requirement already satisfied: six>=1.9.0 in /usr/local/lib/python3.8/dist-packages (from google-auth>=1.4.1->earthengine-api) (1.15.0)\n",
            "Requirement already satisfied: cachetools<6.0,>=2.0.0 in /usr/local/lib/python3.8/dist-packages (from google-auth>=1.4.1->earthengine-api) (5.3.0)\n",
            "Requirement already satisfied: pyasn1-modules>=0.2.1 in /usr/local/lib/python3.8/dist-packages (from google-auth>=1.4.1->earthengine-api) (0.2.8)\n",
            "Requirement already satisfied: google-resumable-media>=2.3.2 in /usr/local/lib/python3.8/dist-packages (from google-cloud-storage->earthengine-api) (2.4.1)\n",
            "Requirement already satisfied: google-cloud-core<3.0dev,>=2.3.0 in /usr/local/lib/python3.8/dist-packages (from google-cloud-storage->earthengine-api) (2.3.2)\n",
            "Requirement already satisfied: urllib3<1.27,>=1.21.1 in /usr/local/lib/python3.8/dist-packages (from requests->earthengine-api) (1.24.3)\n",
            "Requirement already satisfied: idna<3,>=2.5 in /usr/local/lib/python3.8/dist-packages (from requests->earthengine-api) (2.10)\n",
            "Requirement already satisfied: chardet<5,>=3.0.2 in /usr/local/lib/python3.8/dist-packages (from requests->earthengine-api) (4.0.0)\n",
            "Requirement already satisfied: certifi>=2017.4.17 in /usr/local/lib/python3.8/dist-packages (from requests->earthengine-api) (2022.12.7)\n",
            "Requirement already satisfied: googleapis-common-protos<2.0dev,>=1.56.2 in /usr/local/lib/python3.8/dist-packages (from google-api-core!=2.0.*,!=2.1.*,!=2.2.*,!=2.3.0,<3.0.0dev,>=1.31.5->google-api-python-client>=1.12.1->earthengine-api) (1.58.0)\n",
            "Requirement already satisfied: protobuf!=3.20.0,!=3.20.1,!=4.21.0,!=4.21.1,!=4.21.2,!=4.21.3,!=4.21.4,!=4.21.5,<5.0.0dev,>=3.19.5 in /usr/local/lib/python3.8/dist-packages (from google-api-core!=2.0.*,!=2.1.*,!=2.2.*,!=2.3.0,<3.0.0dev,>=1.31.5->google-api-python-client>=1.12.1->earthengine-api) (3.19.6)\n",
            "Requirement already satisfied: google-crc32c<2.0dev,>=1.0 in /usr/local/lib/python3.8/dist-packages (from google-resumable-media>=2.3.2->google-cloud-storage->earthengine-api) (1.5.0)\n",
            "Requirement already satisfied: pyasn1<0.5.0,>=0.4.6 in /usr/local/lib/python3.8/dist-packages (from pyasn1-modules>=0.2.1->google-auth>=1.4.1->earthengine-api) (0.4.8)\n",
            "Looking in indexes: https://pypi.org/simple, https://us-python.pkg.dev/colab-wheels/public/simple/\n",
            "Looking in links: https://girder.github.io/large_image_wheels\n",
            "Requirement already satisfied: GDAL in /usr/lib/python3/dist-packages (3.3.2)\n",
            "Looking in indexes: https://pypi.org/simple, https://us-python.pkg.dev/colab-wheels/public/simple/\n",
            "Collecting retry\n",
            "  Downloading retry-0.9.2-py2.py3-none-any.whl (8.0 kB)\n",
            "Requirement already satisfied: py<2.0.0,>=1.4.26 in /usr/local/lib/python3.8/dist-packages (from retry) (1.11.0)\n",
            "Requirement already satisfied: decorator>=3.4.2 in /usr/local/lib/python3.8/dist-packages (from retry) (4.4.2)\n",
            "Installing collected packages: retry\n",
            "Successfully installed retry-0.9.2\n",
            "Looking in indexes: https://pypi.org/simple, https://us-python.pkg.dev/colab-wheels/public/simple/\n",
            "Requirement already satisfied: numpy in /usr/local/lib/python3.8/dist-packages (1.21.6)\n",
            "Looking in indexes: https://pypi.org/simple, https://us-python.pkg.dev/colab-wheels/public/simple/\n",
            "Collecting unidecode\n",
            "  Downloading Unidecode-1.3.6-py3-none-any.whl (235 kB)\n",
            "\u001b[2K     \u001b[90m━━━━━━━━━━━━━━━━━━━━━━━━━━━━━━━━━━━━━━━\u001b[0m \u001b[32m235.9/235.9 KB\u001b[0m \u001b[31m8.2 MB/s\u001b[0m eta \u001b[36m0:00:00\u001b[0m\n",
            "\u001b[?25hInstalling collected packages: unidecode\n",
            "Successfully installed unidecode-1.3.6\n",
            "Looking in indexes: https://pypi.org/simple, https://us-python.pkg.dev/colab-wheels/public/simple/\n",
            "Collecting geojson\n",
            "  Downloading geojson-3.0.1-py3-none-any.whl (15 kB)\n",
            "Installing collected packages: geojson\n",
            "Successfully installed geojson-3.0.1\n",
            "Looking in indexes: https://pypi.org/simple, https://us-python.pkg.dev/colab-wheels/public/simple/\n",
            "Collecting aiofiles\n",
            "  Downloading aiofiles-23.1.0-py3-none-any.whl (14 kB)\n",
            "Installing collected packages: aiofiles\n",
            "Successfully installed aiofiles-23.1.0\n"
          ]
        }
      ],
      "source": [
        "!pip install earthengine-api\n",
        "!pip install --find-links=https://girder.github.io/large_image_wheels --no-cache GDAL\n",
        "!pip install retry\n",
        "!pip install numpy\n",
        "!pip install unidecode\n",
        "!pip install geojson\n",
        "!pip install aiofiles"
      ]
    },
    {
      "cell_type": "markdown",
      "metadata": {
        "id": "_lzQmzk33vHZ"
      },
      "source": [
        "## Find the area of interest"
      ]
    },
    {
      "cell_type": "code",
      "execution_count": null,
      "metadata": {
        "id": "3MUYOf_T3qn4"
      },
      "outputs": [],
      "source": [
        "import json\n",
        "import requests\n",
        "from geojson import Feature, FeatureCollection"
      ]
    },
    {
      "cell_type": "code",
      "execution_count": null,
      "metadata": {
        "id": "zRXEEpEM33lk"
      },
      "outputs": [],
      "source": [
        "def nominatim(aoi):\n",
        "    r = requests.get(f'https://nominatim.openstreetmap.org/search?q={aoi}&polygon_geojson=1&format=geojson')\n",
        "    j = r.json()\n",
        "\n",
        "    polylist = []\n",
        "\n",
        "    for feature in j['features']:\n",
        "        \n",
        "        type = feature['properties']['type']\n",
        "        if type == 'administrative':\n",
        "            geo = feature['geometry']\n",
        "            props = feature['properties']\n",
        "            bbox = feature['bbox']\n",
        "            props['bbox'] = bbox\n",
        "            features = []\n",
        "            features.append(Feature(geometry = geo, properties = props))\n",
        "            polylist.append(FeatureCollection(features))\n",
        "\n",
        "    return polylist"
      ]
    },
    {
      "cell_type": "code",
      "execution_count": null,
      "metadata": {
        "id": "lwwwi9Jo8-bw"
      },
      "outputs": [],
      "source": [
        "def write(polylist, index):\n",
        "    try:\n",
        "        f = open('aoi.geojson', 'w')\n",
        "        json.dump(polylist[index], f, indent = 4, ensure_ascii = False)\n",
        "        f.close()\n",
        "    except Exception as e:\n",
        "        print(e)"
      ]
    },
    {
      "cell_type": "code",
      "execution_count": null,
      "metadata": {
        "id": "RDCVJTG78_QG"
      },
      "outputs": [],
      "source": [
        "def display(polylist):\n",
        "    for count, poly in enumerate(polylist):\n",
        "        print(f\"{count}: {poly['features'][0]['properties']['display_name']}\")"
      ]
    },
    {
      "cell_type": "code",
      "execution_count": null,
      "metadata": {
        "colab": {
          "base_uri": "https://localhost:8080/"
        },
        "id": "Iip9hWwJ9CBc",
        "outputId": "0b33a61a-8dda-458c-b5af-af53cb98a075"
      },
      "outputs": [
        {
          "name": "stdout",
          "output_type": "stream",
          "text": [
            "Enter the region of interest: Qatar\n",
            "0: قطر\n",
            "Enter the index: 0\n"
          ]
        }
      ],
      "source": [
        "aoi = input(\"Enter the region of interest: \")\n",
        "polylist = nominatim(aoi)\n",
        "display(polylist)\n",
        "index = int(input(\"Enter the index: \"))\n",
        "write(polylist, index)"
      ]
    },
    {
      "cell_type": "markdown",
      "metadata": {
        "id": "vj8hjFJJ9Goy"
      },
      "source": [
        "## Search EarthEngine"
      ]
    },
    {
      "cell_type": "code",
      "execution_count": null,
      "metadata": {
        "colab": {
          "base_uri": "https://localhost:8080/"
        },
        "id": "amRdEsDY9mlG",
        "outputId": "8b0dad28-a7ce-4b59-d262-23242d33c8f6"
      },
      "outputs": [
        {
          "output_type": "stream",
          "name": "stdout",
          "text": [
            "To authorize access needed by Earth Engine, open the following URL in a web browser and follow the instructions. If the web browser does not start automatically, please manually browse the URL below.\n",
            "\n",
            "    https://code.earthengine.google.com/client-auth?scopes=https%3A//www.googleapis.com/auth/earthengine%20https%3A//www.googleapis.com/auth/devstorage.full_control&request_id=Qa7nbUJY6ekiwCIDIp5SkNqrbGUuKjCy_-ArbLLaSFc&tc=8lbUiYUBVDVuTyaXYJ92ZtUVOMJbX_1tW7PGwFPOdEw&cc=UrhvciRFn2sP6O1-wIIZkW_h3euiBXO_N6UD1ZNiPzA\n",
            "\n",
            "The authorization workflow will generate a code, which you should paste in the box below.\n",
            "Enter verification code: 4/1AWtgzh4qyNYtx40BSMBJFumM8E1S6TuVxPBRbW_5cbkeV_14PswnUB1tpr4\n",
            "\n",
            "Successfully saved authorization token.\n"
          ]
        }
      ],
      "source": [
        "import ee\n",
        "ee.Authenticate()\n",
        "\n",
        "ee.Initialize(opt_url='https://earthengine-highvolume.googleapis.com')"
      ]
    },
    {
      "cell_type": "code",
      "execution_count": null,
      "metadata": {
        "id": "vWyAIi-y9J-V"
      },
      "outputs": [],
      "source": [
        "b_file = open('./aoi.geojson', \"r\")\n",
        "b_json = json.load(b_file)\n",
        "\n",
        "multipoly = False\n",
        "if b_json['features'][0]['geometry']['type'] == 'MultiPolygon': \n",
        "    multipoly = True\n",
        "\n",
        "coordinates = b_json['features'][0]['geometry']['coordinates']\n",
        "\n",
        "if multipoly:\n",
        "    # roi = ee.Geometry.MultiPolygon(coordinates).convexHull(ee.ErrorMargin(1))\n",
        "    roi = ee.Geometry.MultiPolygon(coordinates)\n",
        "else:\n",
        "    roi = ee.Geometry.Polygon(coordinates)\n",
        "b_file.close()"
      ]
    },
    {
      "cell_type": "code",
      "execution_count": null,
      "metadata": {
        "id": "2_aKixCb9tjM"
      },
      "outputs": [],
      "source": [
        "start = '2019-09-08'\n",
        "end = '2019-09-12'"
      ]
    },
    {
      "cell_type": "code",
      "execution_count": null,
      "metadata": {
        "id": "NbclnPlq-fQx"
      },
      "outputs": [],
      "source": [
        "def getS1Collection():\n",
        "    \"\"\"\n",
        "    A function that returns an ee.ImageCollection() of Sentinel-1 images\n",
        "    \n",
        "    Output:\n",
        "    Returns ee.ImageCollection() from Sentinel-1 \n",
        "    \"\"\"\n",
        "    sent_1 = ee.ImageCollection('COPERNICUS/S1_GRD').filterDate(start, end) \\\n",
        "            .filter(ee.Filter.listContains('transmitterReceiverPolarisation', 'VV')) \\\n",
        "            .filter(ee.Filter.listContains('transmitterReceiverPolarisation', 'VH')) \\\n",
        "            .select('VV', 'VH') \\\n",
        "            .filter(ee.Filter.eq('instrumentMode', 'IW')) \\\n",
        "            .filterMetadata('resolution_meters', 'equals', 10) \\\n",
        "            .filterBounds(roi)\n",
        "    \n",
        "    return sent_1"
      ]
    },
    {
      "cell_type": "code",
      "execution_count": null,
      "metadata": {
        "id": "yaaj3V7M-5SM"
      },
      "outputs": [],
      "source": [
        "def getS2Collection(clouds):\n",
        "    '''\n",
        "    A function that returns an ee.ImageCollection() of Sentinel-2 images\n",
        "\n",
        "    Output:\n",
        "    Returns ee.ImageCollection() from Sentinel-2\n",
        "    '''\n",
        "\n",
        "    sent_2 = ee.ImageCollection('COPERNICUS/S2_SR').filterDate(start, end) \\\n",
        "    .filter(ee.Filter.lte('CLOUDY_PIXEL_PERCENTAGE', clouds)) \\\n",
        "    .filterBounds(roi)\n",
        "\n",
        "    return sent_2"
      ]
    },
    {
      "cell_type": "code",
      "execution_count": null,
      "metadata": {
        "id": "r0XlgeXr_c_a"
      },
      "outputs": [],
      "source": [
        "def getImageID(collection):\n",
        "    ids = collection.aggregate_array('system:index').getInfo()\n",
        "    return list(map(lambda id: 'COPERNICUS/S2/' + id, ids))"
      ]
    },
    {
      "cell_type": "code",
      "execution_count": null,
      "metadata": {
        "id": "HNQn9aeoGRsa",
        "colab": {
          "base_uri": "https://localhost:8080/"
        },
        "outputId": "0ca12c0e-d04d-4d06-c652-020c1771b202"
      },
      "outputs": [
        {
          "output_type": "stream",
          "name": "stdout",
          "text": [
            "3\n"
          ]
        }
      ],
      "source": [
        "clouds = 20\n",
        "images = getImageID(getS2Collection(clouds))\n",
        "# for image in images:\n",
        "#     print(image)\n",
        "print(len(images)) "
      ]
    },
    {
      "cell_type": "markdown",
      "metadata": {
        "id": "drsBUkKLefgv"
      },
      "source": [
        "## Download the images"
      ]
    },
    {
      "cell_type": "code",
      "execution_count": null,
      "metadata": {
        "id": "x22VsmSxhPuw"
      },
      "outputs": [],
      "source": [
        "import shutil\n",
        "from threading import Lock\n",
        "import os\n",
        "import concurrent.futures\n",
        "from retry import retry\n",
        "import multiprocessing\n",
        "import functools\n",
        "import asyncio\n",
        "import aiohttp\n",
        "import aiofiles\n",
        "from osgeo import gdal"
      ]
    },
    {
      "cell_type": "code",
      "execution_count": null,
      "metadata": {
        "id": "R1S_S2xVGBVz"
      },
      "outputs": [],
      "source": [
        "# ee.Initialize(opt_url='https://earthengine-highvolume.googleapis.com')"
      ]
    },
    {
      "cell_type": "code",
      "execution_count": null,
      "metadata": {
        "id": "vv8efi-cXnC1"
      },
      "outputs": [],
      "source": [
        "class MyImage():\n",
        "    def __init__(self, id):\n",
        "        self.id = id\n",
        "        self.img = ee.Image(id)\n",
        "        self.download_lock = Lock()\n",
        "\n",
        "\n",
        "\n",
        "    def getAreaOfInterest(self):\n",
        "        lring = ee.Geometry(self.img.get('system:footprint')).coordinates()\n",
        "        aoi = ee.Geometry.Polygon(lring)\n",
        "        grid = aoi.coveringGrid(aoi.projection(), 20000)\n",
        "        return grid.aggregate_array('.geo').getInfo()\n",
        "\n",
        "    @retry(tries=2, delay=1, backoff=2)\n",
        "    def getURLs(self):\n",
        "        urls = []\n",
        "        for tile in self.getAreaOfInterest():\n",
        "            tessel = ee.Geometry(tile)\n",
        "            chip = self.img.clip(tessel)\n",
        "            with self.download_lock:\n",
        "                url = chip.getDownloadURL({\n",
        "                    'bands': ['B4', 'B3', 'B2'],\n",
        "                    'scale': 10,\n",
        "                    'format': 'GEO_TIFF',\n",
        "                    'dimensions': '256x256'\n",
        "                })\n",
        "            urls.append(url)\n",
        "        return urls\n",
        "\n",
        "    async def downloadTile_asyncio(self, url, pathToTiles, index):\n",
        "        tries = 3\n",
        "        file = self.id.replace('/','_')\n",
        "        filename = f'S2_{file}_tile_{index:05d}.tif'\n",
        "        truename = os.path.join(pathToTiles, filename)\n",
        "        async with aiohttp.ClientSession() as session:\n",
        "            r = await session.get(url)\n",
        "            while tries and r.status != 200:\n",
        "                r = await session.get(url)\n",
        "                tries -= 1\n",
        "            if r.status != 200:\n",
        "                raise Exception(f'Download failed with response status: {r.status}')\n",
        "            file_content = await r.read()\n",
        "            async with aiofiles.open(truename, 'wb') as f:\n",
        "                await f.write(file_content)\n",
        "                # print(f'{filename} saved')\n",
        "\n",
        "    \n",
        "\n",
        "    async def downloadChips_asyncio(self, pathToTiles):\n",
        "        urls = self.getURLs()\n",
        "        await asyncio.gather(*[self.downloadTile_asyncio(url, pathToTiles, index) for index, url in enumerate(urls)])\n",
        "\n",
        "    def stitchChips(self, pathToTiles, pathToImages):\n",
        "        nodata = 0\n",
        "        sat = 'S2'\n",
        "        file = self.id.replace('/', '_')\n",
        "        os.system(f'gdalbuildvrt -srcnodata {nodata} -vrtnodata nan -r cubicspline {pathToTiles}/{sat}_{file}_merged.vrt {pathToTiles}/{sat}_{file}*.tif 2> /dev/null')\n",
        "        # os.system(f'gdalbuildvrt {pathToTiles}/{sat}_{file}_merged.vrt {pathToTiles}/{sat}_{file}*.tif')\n",
        "        os.system(f'gdal_translate -a_nodata nan --config GDAL_NUM_THREADS ALL_CPUS {pathToTiles}/{sat}_{file}_merged.vrt {pathToImages}/{sat}_{file}_merge.tif ')\n",
        "        os.system(f'rm {pathToTiles}/*')\n",
        "    \n",
        "\n",
        "    # ----depreciated----\n",
        "    # def downloadTile(self, url, pathToTiles, index):       \n",
        "    #     r = requests.get(url, stream=True)\n",
        "        \n",
        "    #     if r.status_code != 200:\n",
        "    #         raise r.raise_for_status()\n",
        "    #     file = self.id.replace('/','_')\n",
        "    #     filename = f'S2_{file}_tile_{index:05d}.tif'\n",
        "    #     truename = os.path.join(pathToTiles, filename)\n",
        "    #     with open(truename, 'wb') as out_file:\n",
        "    #         shutil.copyfileobj(r.raw, out_file)\n",
        "\n",
        "    # ----depreciated----\n",
        "    # def downloadChips(self, pathToTiles):\n",
        "    #     urls = self.getURLs()\n",
        "    #     print(f'{len(urls)} tiles generated.')\n",
        "               \n",
        "    #     for i,url in enumerate(urls):            \n",
        "    #         self.downloadTile(url, pathToTiles, i)\n",
        "    "
      ]
    },
    {
      "cell_type": "code",
      "execution_count": null,
      "metadata": {
        "id": "867LkZ_hcmf1",
        "colab": {
          "base_uri": "https://localhost:8080/"
        },
        "outputId": "096f9efb-95f1-4de5-c48b-c5caf854b957"
      },
      "outputs": [
        {
          "output_type": "stream",
          "name": "stdout",
          "text": [
            "image 1 done\n",
            "image 2 done\n",
            "image 3 done\n"
          ]
        }
      ],
      "source": [
        "if __name__ == '__main__':\n",
        "\n",
        "    cwd = os.getcwd()\n",
        "\n",
        "    pathToTiles = os.path.join(cwd, 'tiles')\n",
        "    pathToImages = os.path.join(cwd, 'images')\n",
        "\n",
        "    if not os.path.exists(pathToTiles):\n",
        "        os.makedirs(pathToTiles)\n",
        "    if not os.path.exists(pathToImages):\n",
        "        os.makedirs(pathToImages)\n",
        "\n",
        "    for i, image in enumerate(images):\n",
        "        obj = MyImage(image)\n",
        "        await obj.downloadChips_asyncio(pathToTiles)\n",
        "        # asyncio.run(obj.downloadChips_asyncio(pathToTiles))\n",
        "        # obj.downloadChips(pathToTiles)\n",
        "        obj.stitchChips(pathToTiles, pathToImages)\n",
        "        print(f'image {i + 1} done')"
      ]
    },
    {
      "cell_type": "markdown",
      "source": [
        "dont immediately run this cell"
      ],
      "metadata": {
        "id": "fgigJW9aOKS8"
      }
    },
    {
      "cell_type": "code",
      "execution_count": null,
      "metadata": {
        "id": "KZrYgPZXtrjv",
        "colab": {
          "base_uri": "https://localhost:8080/"
        },
        "outputId": "33f8cdab-d6c4-4972-dd64-73b43ddc3d19"
      },
      "outputs": [
        {
          "output_type": "stream",
          "name": "stdout",
          "text": [
            "rm: cannot remove 'tiles/*': No such file or directory\n"
          ]
        }
      ],
      "source": [
        "!rm tiles/*\n",
        "!rm images/*"
      ]
    },
    {
      "cell_type": "code",
      "source": [
        "pathToTiles = os.path.join(cwd, 'tiles')\n",
        "pathToImages = os.path.join(cwd, 'images')\n",
        "\n",
        "directories = os.listdir(pathToImages)\n",
        "\n",
        "def firstn(n):\n",
        "    num = 0\n",
        "    while num < n:\n",
        "        yield num\n",
        "        num += 1\n",
        "\n",
        "gen = firstn(len(directories))"
      ],
      "metadata": {
        "id": "2G_Az-PvMv3w"
      },
      "execution_count": null,
      "outputs": []
    },
    {
      "cell_type": "code",
      "source": [
        "!du -h images/*"
      ],
      "metadata": {
        "id": "UsWtGVD9M3UV"
      },
      "execution_count": null,
      "outputs": []
    },
    {
      "cell_type": "markdown",
      "source": [
        "## Visualize the images\n",
        "Keep running this cell to get new images"
      ],
      "metadata": {
        "id": "M2xpjGRhNH2J"
      }
    },
    {
      "cell_type": "code",
      "source": [
        "!pip install ipympl"
      ],
      "metadata": {
        "id": "FM5iDIv1Io_g"
      },
      "execution_count": null,
      "outputs": []
    },
    {
      "cell_type": "code",
      "source": [
        "%matplotlib widget\n",
        "from google.colab import output\n",
        "output.enable_custom_widget_manager()"
      ],
      "metadata": {
        "id": "xu8X7sJEItVo"
      },
      "execution_count": null,
      "outputs": []
    },
    {
      "cell_type": "code",
      "source": [
        "output.disable_custom_widget_manager()\n"
      ],
      "metadata": {
        "id": "b2UbbFToJPWa"
      },
      "execution_count": null,
      "outputs": []
    },
    {
      "cell_type": "code",
      "source": [
        "# %matplotlib notebook\n",
        "import matplotlib.pyplot as plt\n",
        "import numpy as np\n",
        "\n",
        "\n",
        "\n",
        "fp = '/content/images/'\n",
        "\n",
        "dataset = gdal.Open(fp + directories[next(gen)])\n",
        "\n",
        "\n",
        "print(dataset.RasterCount)\n",
        "\n",
        "band1 = dataset.GetRasterBand(1) # Red channel\n",
        "band2 = dataset.GetRasterBand(2) # Green channel\n",
        "band3 = dataset.GetRasterBand(3) # Blue channel\n",
        "\n",
        "b1 = band1.ReadAsArray()\n",
        "b2 = band2.ReadAsArray()\n",
        "b3 = band3.ReadAsArray()\n",
        "\n",
        "scale = 12\n",
        "\n",
        "b1 = (b1 / 65535) * scale\n",
        "b2 = (b2 / 65535) * scale\n",
        "b3 = (b3 / 65535) * scale\n",
        "img = np.dstack((b1, b2, b3))\n",
        "f = plt.figure(figsize=(10, 10))\n",
        "# plt.imshow(b2)\n",
        "plt.imshow(img)\n",
        "# plt.savefig('Tiff.png')\n",
        "plt.show()"
      ],
      "metadata": {
        "colab": {
          "base_uri": "https://localhost:8080/",
          "height": 613
        },
        "id": "xG1_pZ590waX",
        "outputId": "6cc5280f-bd5c-4156-8eb9-c28e8ece7341"
      },
      "execution_count": null,
      "outputs": [
        {
          "output_type": "stream",
          "name": "stdout",
          "text": [
            "3\n"
          ]
        },
        {
          "output_type": "display_data",
          "data": {
            "text/plain": [
              "<Figure size 720x720 with 1 Axes>"
            ],
            "image/png": "[encoded data removed]"
          },
          "metadata": {
            "needs_background": "light"
          }
        }
      ]
    }
  ],
  "metadata": {
    "colab": {
      "provenance": [],
      "authorship_tag": "ABX9TyPLlrhmp9AuQluyl9onvOz/",
      "include_colab_link": true
    },
    "kernelspec": {
      "display_name": "Python 3",
      "name": "python3"
    },
    "language_info": {
      "name": "python"
    }
  },
  "nbformat": 4,
  "nbformat_minor": 0
}